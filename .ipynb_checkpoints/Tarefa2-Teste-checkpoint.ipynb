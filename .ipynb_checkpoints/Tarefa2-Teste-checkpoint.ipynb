{
 "cells": [
  {
   "cell_type": "code",
   "execution_count": 2,
   "id": "ec8715f7-e3ee-45ca-934e-78afc8de3b4f",
   "metadata": {},
   "outputs": [],
   "source": [
    "import random\n",
    "from functools import lru_cache\n",
    "import os\n",
    "import math\n",
    "\n",
    "import time\n",
    "import numpy as np\n",
    "import pandas as pd\n",
    "from matplotlib import pyplot as plt\n",
    "#import tensorflow as tf\n",
    "#from tensorflow import keras\n",
    "\n",
    "import sklearn.preprocessing\n",
    "from sklearn.preprocessing import LabelEncoder"
   ]
  },
  {
   "cell_type": "markdown",
   "id": "9c069d1f-15d8-4c0a-8dbd-bece09ba014d",
   "metadata": {},
   "source": [
    "# 1. Preparo dos Dados"
   ]
  },
  {
   "cell_type": "code",
   "execution_count": 3,
   "id": "ffa20fb1-ac8d-461d-b0c7-1f2ffe4e8dab",
   "metadata": {},
   "outputs": [
    {
     "name": "stdout",
     "output_type": "stream",
     "text": [
      "['.git', '.ipynb_checkpoints', 'allbut.pl', 'mku.sh', 'new', 'README', 'Tarefa2-Teste.ipynb', 'u.data', 'u.genre', 'u.info', 'u.item', 'u.occupation', 'u.user', 'u1.base', 'u1.test', 'u2.base', 'u2.test', 'u3.base', 'u3.test', 'u4.base', 'u4.test', 'u5.base', 'u5.test', 'ua.base', 'ua.test', 'ub.base', 'ub.test']\n"
     ]
    }
   ],
   "source": [
    "import os\n",
    "folder_path = 'C:/Users/tomat/Desktop/Focus/MO431/Project2/ml-100k'\n",
    "files = os.listdir(folder_path)\n",
    "print(files)"
   ]
  },
  {
   "cell_type": "code",
   "execution_count": 4,
   "id": "ed76b6ba-16e0-4c96-b80f-c35945d16aa6",
   "metadata": {},
   "outputs": [],
   "source": [
    "file1 = open('u.data')"
   ]
  },
  {
   "cell_type": "code",
   "execution_count": 5,
   "id": "48c4cfed-7941-4228-8ea1-6b3c54f0f66c",
   "metadata": {},
   "outputs": [],
   "source": [
    "df2 = pd.read_table(folder_path+'/u.data', header = None)\n",
    "columns = df2.columns"
   ]
  },
  {
   "cell_type": "code",
   "execution_count": 6,
   "id": "c49b31ad-726b-45c4-ab7a-90de3206126c",
   "metadata": {},
   "outputs": [],
   "source": [
    "df2.columns = ['user_id', 'movie_id', 'rating', 'timestamp']"
   ]
  },
  {
   "cell_type": "code",
   "execution_count": 7,
   "id": "cdfccdd4-1d93-4d54-b6f7-0e0a5c2875f7",
   "metadata": {},
   "outputs": [
    {
     "name": "stdout",
     "output_type": "stream",
     "text": [
      "       user_id  movie_id  rating  timestamp\n",
      "0          196       242       3  881250949\n",
      "1          186       302       3  891717742\n",
      "2           22       377       1  878887116\n",
      "3          244        51       2  880606923\n",
      "4          166       346       1  886397596\n",
      "...        ...       ...     ...        ...\n",
      "99995      880       476       3  880175444\n",
      "99996      716       204       5  879795543\n",
      "99997      276      1090       1  874795795\n",
      "99998       13       225       2  882399156\n",
      "99999       12       203       3  879959583\n",
      "\n",
      "[100000 rows x 4 columns]\n"
     ]
    }
   ],
   "source": [
    "print(df2)"
   ]
  },
  {
   "cell_type": "code",
   "execution_count": 8,
   "id": "1b7a0eb2-acf6-43b1-92c3-52b29bd10986",
   "metadata": {},
   "outputs": [
    {
     "data": {
      "text/plain": [
       "4    34174\n",
       "3    27145\n",
       "5    21201\n",
       "2    11370\n",
       "1     6110\n",
       "Name: rating, dtype: int64"
      ]
     },
     "execution_count": 8,
     "metadata": {},
     "output_type": "execute_result"
    }
   ],
   "source": [
    "df2['rating'].value_counts()"
   ]
  },
  {
   "cell_type": "markdown",
   "id": "00d29faa-68d7-4e2e-af46-88e578cd8f33",
   "metadata": {},
   "source": [
    "## 1.1. Montando a Matriz Usuário-Filme"
   ]
  },
  {
   "cell_type": "markdown",
   "id": "45df750a-cea6-499b-8f23-286dbb1c27f3",
   "metadata": {},
   "source": [
    "A matriz de dados (100000, 4) corresponde a todos os dados não-nulos que temos a nossa disposição. No entanto, não é esta a matriz de dados que queremos tratar no projeto: queremos a matriz com <b>todas</b> as combinações possíveis de usuário-filme, ainda que o usuário não tenha dado nota ao filme. Nesta situação, o valor default do rating será 0 (note que, no nosso dataset, o valor mínimo do rating é 1, o que significa que rating 0 identificará unicamente a ausência de rating."
   ]
  },
  {
   "cell_type": "code",
   "execution_count": 9,
   "id": "c74770fc-9e36-4240-8bde-ae3f10c04244",
   "metadata": {},
   "outputs": [
    {
     "name": "stdout",
     "output_type": "stream",
     "text": [
      "4    34174\n",
      "3    27145\n",
      "5    21201\n",
      "2    11370\n",
      "1     6110\n",
      "Name: rating, dtype: int64\n",
      "943 1682\n"
     ]
    }
   ],
   "source": [
    "#Mostrando que não existe rating 0 no nosso dataset\n",
    "print(df2['rating'].value_counts())\n",
    "\n",
    "#Número de usuários e de filmes, respectivamente\n",
    "print( df2['user_id'].nunique(),df2['movie_id'].nunique())\n",
    "\n",
    "#Número total de linhas de dados da matriz desejada\n",
    "#print( df3['user_id'].nunique()*df3['movie_id'].nunique())"
   ]
  },
  {
   "cell_type": "markdown",
   "id": "62a89ca2-e75a-49d1-be51-c9f12c5d76c8",
   "metadata": {},
   "source": [
    "Como podemos ver nos cálculos acima, a matriz de dados desejada terá dimensões (943, 1682) ou (1682, 943), a depender da informação que queremos extrair do dataset. Isto é, a primeira matriz, (user, movie), pode ser interpretada como uma 'amostragem de usuários típicos', em que os ratings sobre diferentes filmes representam diferentes gostos de filme dos usuários. Aplicando-se SVD a esta matriz, teríamos como extrair informação 'granular' sobre estes gosto de filme: ao invés de se tratar de gostos por filmes específicos, é possível que a informação estatística a respeito do gosto esteja organizada em termos de gêneros de filme (18 classificações, com adição da classificação desconhecida, como pode ser visto abaixo), os quais são bem menos numerosos do que o número total de filmes (1682)."
   ]
  },
  {
   "cell_type": "code",
   "execution_count": 10,
   "id": "0d5acc40-0404-4d18-808c-4a3baec007b2",
   "metadata": {},
   "outputs": [
    {
     "name": "stdout",
     "output_type": "stream",
     "text": [
      "                0\n",
      "0       unknown|0\n",
      "1        Action|1\n",
      "2     Adventure|2\n",
      "3     Animation|3\n",
      "4    Children's|4\n",
      "5        Comedy|5\n",
      "6         Crime|6\n",
      "7   Documentary|7\n",
      "8         Drama|8\n",
      "9       Fantasy|9\n",
      "10   Film-Noir|10\n",
      "11      Horror|11\n",
      "12     Musical|12\n",
      "13     Mystery|13\n",
      "14     Romance|14\n",
      "15      Sci-Fi|15\n",
      "16    Thriller|16\n",
      "17         War|17\n",
      "18     Western|18\n"
     ]
    }
   ],
   "source": [
    "#Mostrando os diferentes tipos de filme contidos no dataset\n",
    "file2 = pd.read_table(folder_path+'/u.genre', header = None)\n",
    "print(file2)"
   ]
  },
  {
   "cell_type": "markdown",
   "id": "19ce0a0e-37f5-4caa-9369-5f29b15c67b7",
   "metadata": {},
   "source": [
    "O SVD aplicado à matriz (1682, 943) nos daria informação sobre o filme típico, baseado em características médias a respeito dos usuários. O equivalente da discussão apontada anteriormente, em que intuímos que a informação estatística do usuário pode estar organizada em termos de gosto por gêneros de filme, a informação estatística dos públicos dos filmes pode estar organizada em termos das diferentes profissões dos usuários (existem 21 profissões no total)."
   ]
  },
  {
   "cell_type": "code",
   "execution_count": 11,
   "id": "0a3247b2-cf29-447c-a34b-cc83ce9a303f",
   "metadata": {},
   "outputs": [
    {
     "name": "stdout",
     "output_type": "stream",
     "text": [
      "                0\n",
      "0   administrator\n",
      "1          artist\n",
      "2          doctor\n",
      "3        educator\n",
      "4        engineer\n",
      "5   entertainment\n",
      "6       executive\n",
      "7      healthcare\n",
      "8       homemaker\n",
      "9          lawyer\n",
      "10      librarian\n",
      "11      marketing\n",
      "12           none\n",
      "13          other\n",
      "14     programmer\n",
      "15        retired\n",
      "16       salesman\n",
      "17      scientist\n",
      "18        student\n",
      "19     technician\n",
      "20         writer\n"
     ]
    }
   ],
   "source": [
    "#Mostrando os diferentes tipos de filme contidos no dataset\n",
    "file3 = pd.read_table(folder_path+'/u.occupation', header = None)\n",
    "print(file3)"
   ]
  },
  {
   "cell_type": "markdown",
   "id": "2a4a4ae4-bce9-4cdf-b46f-2390bc8f34d7",
   "metadata": {},
   "source": [
    "Das instruções do projeto, inferimos que vamos tratar da matriz de ratings (usuário, filme), e portanto, estaremos considerando informação estatística a respeito do gosto de filme típico de cada usuário."
   ]
  },
  {
   "cell_type": "code",
   "execution_count": 12,
   "id": "15ab3f4b-2806-4c24-82a4-49b0d74b055e",
   "metadata": {},
   "outputs": [
    {
     "data": {
      "text/plain": [
       "user_id            196\n",
       "movie_id           242\n",
       "rating               3\n",
       "timestamp    881250949\n",
       "Name: 0, dtype: int64"
      ]
     },
     "execution_count": 12,
     "metadata": {},
     "output_type": "execute_result"
    }
   ],
   "source": [
    "df2.iloc[0]"
   ]
  },
  {
   "cell_type": "code",
   "execution_count": 13,
   "id": "f2c802f4-f61b-4663-87cd-8565935a1f91",
   "metadata": {},
   "outputs": [
    {
     "name": "stdout",
     "output_type": "stream",
     "text": [
      "(943, 1682)\n"
     ]
    }
   ],
   "source": [
    "#Matriz vazia, com dimensões desejadas\n",
    "null_array = [[0 for col in range(1682)] for row in range(943)]\n",
    "print(np.shape(null_array))"
   ]
  },
  {
   "cell_type": "code",
   "execution_count": 14,
   "id": "3d7cff0d-a66e-4440-904b-53fe067ffc59",
   "metadata": {},
   "outputs": [
    {
     "name": "stdout",
     "output_type": "stream",
     "text": [
      "       user_id  movie_id  rating\n",
      "0           84         1       2\n",
      "1          806         1       4\n",
      "2          768         1       5\n",
      "3           92         1       4\n",
      "4          419         1       4\n",
      "...        ...       ...     ...\n",
      "99995      863      1678       1\n",
      "99996      863      1679       3\n",
      "99997      863      1680       2\n",
      "99998      896      1681       3\n",
      "99999      916      1682       3\n",
      "\n",
      "[100000 rows x 3 columns]\n"
     ]
    }
   ],
   "source": [
    "#Para reduzir a complexidade dos 'fors', vamos deixar a matriz de dados ordenada em termos do movie_id\n",
    "df3 = df2.sort_values('movie_id')\n",
    "df3 = df3.reset_index()\n",
    "\n",
    "#Excluímos dados desnecessários\n",
    "df3 = df3.drop(['index','timestamp'], axis = 'columns')\n",
    "print(df3)"
   ]
  },
  {
   "cell_type": "code",
   "execution_count": 15,
   "id": "07a20609-c0f8-4e90-945b-cb19dde7d0b9",
   "metadata": {},
   "outputs": [
    {
     "data": {
      "text/plain": [
       "131"
      ]
     },
     "execution_count": 15,
     "metadata": {},
     "output_type": "execute_result"
    }
   ],
   "source": [
    "(df3.movie_id.values == 2).sum()"
   ]
  },
  {
   "cell_type": "code",
   "execution_count": 16,
   "id": "234aa005-2219-4082-8db1-77a5284ffd24",
   "metadata": {},
   "outputs": [
    {
     "data": {
      "text/plain": [
       "452"
      ]
     },
     "execution_count": 16,
     "metadata": {},
     "output_type": "execute_result"
    }
   ],
   "source": [
    "df3['movie_id'].value_counts()[1]"
   ]
  },
  {
   "cell_type": "code",
   "execution_count": 19,
   "id": "234a8a20-ebca-4076-8c58-2a94dd8ad9f1",
   "metadata": {},
   "outputs": [],
   "source": [
    "start = time.perf_counter()\n",
    "data_array = null_array\n",
    "j = 0\n",
    "buffer = 0\n",
    "while j < 1682:\n",
    "    i = 0\n",
    "    #Número de user_id's associados ao movie_id em questão\n",
    "    nusers = df3['movie_id'].value_counts()[j+1]\n",
    "    \n",
    "    #Iteração sobre todos os user_id associados ao movie_id em questão\n",
    "    while i < nusers:\n",
    "        data_array[df3['user_id'][buffer+i]-1][j] = df3['rating'].iloc[buffer+i]\n",
    "        i+=1\n",
    "\n",
    "    #Soma o número de usuários iterados, para que a iteração do while acima comece na linha correta\n",
    "    buffer+=nusers\n",
    "    j+=1\n",
    "end = time.perf_counter()"
   ]
  },
  {
   "cell_type": "code",
   "execution_count": 20,
   "id": "751159af-7327-4022-87b1-a7effb6ebd3c",
   "metadata": {
    "scrolled": true
   },
   "outputs": [
    {
     "name": "stdout",
     "output_type": "stream",
     "text": [
      "6.565045299999994\n"
     ]
    }
   ],
   "source": [
    "print(end-start)"
   ]
  },
  {
   "cell_type": "code",
   "execution_count": 22,
   "id": "d29daf8b-b349-4cc6-9492-2b85778a39be",
   "metadata": {},
   "outputs": [
    {
     "name": "stdout",
     "output_type": "stream",
     "text": [
      "   0     1     2     3     4     5     6     7     8     9     ...  1672  \\\n",
      "0     5     3     4     3     3     5     4     1     5     3  ...     0   \n",
      "1     4     0     0     0     0     0     0     0     0     2  ...     0   \n",
      "2     0     0     0     0     0     0     0     0     0     0  ...     0   \n",
      "3     0     0     0     0     0     0     0     0     0     0  ...     0   \n",
      "4     4     3     0     0     0     0     0     0     0     0  ...     0   \n",
      "\n",
      "   1673  1674  1675  1676  1677  1678  1679  1680  1681  \n",
      "0     0     0     0     0     0     0     0     0     0  \n",
      "1     0     0     0     0     0     0     0     0     0  \n",
      "2     0     0     0     0     0     0     0     0     0  \n",
      "3     0     0     0     0     0     0     0     0     0  \n",
      "4     0     0     0     0     0     0     0     0     0  \n",
      "\n",
      "[5 rows x 1682 columns]\n",
      "(943, 1682)\n"
     ]
    }
   ],
   "source": [
    "data = pd.DataFrame(data = data_array)\n",
    "print(data.head())\n",
    "print(data.shape)"
   ]
  },
  {
   "cell_type": "markdown",
   "id": "f57d9b06-47d2-40cf-874d-774cb88a838b",
   "metadata": {},
   "source": [
    "## 1.2. Preenchendo com valores Nulos"
   ]
  },
  {
   "cell_type": "markdown",
   "id": "b575c251-9d47-47aa-8fb4-e172955a5292",
   "metadata": {},
   "source": [
    "Para preencher os valores nulos, vamos utilizar as notas médias de cada filme."
   ]
  },
  {
   "cell_type": "code",
   "execution_count": 26,
   "id": "756d4117-f639-4b09-89e1-077b3894202f",
   "metadata": {},
   "outputs": [
    {
     "name": "stdout",
     "output_type": "stream",
     "text": [
      "[[nan, nan], [nan, nan]]\n"
     ]
    }
   ],
   "source": [
    "null_array2 = [[np.nan for col in range(2)] for row in range(2)]\n",
    "print(null_array2)\n"
   ]
  },
  {
   "cell_type": "code",
   "execution_count": 32,
   "id": "3f309585-b14a-4384-b56b-4e9d9e8f9d60",
   "metadata": {},
   "outputs": [
    {
     "name": "stdout",
     "output_type": "stream",
     "text": [
      "0    2.5\n",
      "dtype: float64\n"
     ]
    }
   ],
   "source": [
    "null_array3 = [np.nan, 2, 3, np.nan]\n",
    "null_df = pd.DataFrame(data = null_array3)\n",
    "print(null_df.mean())"
   ]
  },
  {
   "cell_type": "markdown",
   "id": "be8c5de3-56b2-4156-b500-1ad242fb0bf6",
   "metadata": {},
   "source": [
    "# 2. SVD da Matriz Usuário-"
   ]
  },
  {
   "cell_type": "code",
   "execution_count": null,
   "id": "34bfb398-07ca-4d73-84b5-30dd646c43f5",
   "metadata": {},
   "outputs": [],
   "source": []
  }
 ],
 "metadata": {
  "kernelspec": {
   "display_name": "Python 3 (ipykernel)",
   "language": "python",
   "name": "python3"
  },
  "language_info": {
   "codemirror_mode": {
    "name": "ipython",
    "version": 3
   },
   "file_extension": ".py",
   "mimetype": "text/x-python",
   "name": "python",
   "nbconvert_exporter": "python",
   "pygments_lexer": "ipython3",
   "version": "3.9.12"
  }
 },
 "nbformat": 4,
 "nbformat_minor": 5
}
